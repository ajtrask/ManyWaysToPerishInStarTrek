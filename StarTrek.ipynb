{
 "cells": [
  {
   "cell_type": "markdown",
   "metadata": {},
   "source": [
    "# Star Trek Causes of Death\n",
    "## Data and inspiration from www.thestartrekproject.net\n",
    "\n",
    "## Required Libraries"
   ]
  },
  {
   "cell_type": "code",
   "execution_count": null,
   "metadata": {
    "collapsed": true
   },
   "outputs": [],
   "source": [
    "import numpy as np\n",
    "import pandas as pd\n",
    "import matplotlib.pyplot as plt\n",
    "%matplotlib inline"
   ]
  },
  {
   "cell_type": "markdown",
   "metadata": {},
   "source": [
    "## Read in the Data"
   ]
  },
  {
   "cell_type": "code",
   "execution_count": null,
   "metadata": {
    "collapsed": false
   },
   "outputs": [],
   "source": [
    "allDeaths = pd.read_excel(\"data/all-deaths.xls\")\n",
    "print(allDeaths.shape)\n",
    "allDeaths.head()"
   ]
  },
  {
   "cell_type": "markdown",
   "metadata": {},
   "source": [
    "## Filter to Just Explore \"The Original Star Trek\""
   ]
  },
  {
   "cell_type": "code",
   "execution_count": null,
   "metadata": {
    "collapsed": false,
    "scrolled": true
   },
   "outputs": [],
   "source": [
    "allDeathsTOS = allDeaths[allDeaths['EpisodeID'].str.contains(\"tos\")]\n",
    "print(allDeathsTOS.size)"
   ]
  },
  {
   "cell_type": "markdown",
   "metadata": {},
   "source": [
    "## Group By Cause of Death and Sum the Body Count"
   ]
  },
  {
   "cell_type": "code",
   "execution_count": null,
   "metadata": {
    "collapsed": false
   },
   "outputs": [],
   "source": [
    "totals = allDeathsTOS.groupby('DeathBy')['BodyCount'].sum()\n",
    "\n",
    "#returned a serires, so build a data frame and then sort in ascending order for plotting later\n",
    "totalDeaths = pd.DataFrame({'DeathBy': totals.index,'TotalBodyCount': totals.values}).sort_values('TotalBodyCount')\n",
    "\n",
    "totalDeaths.tail()"
   ]
  },
  {
   "cell_type": "markdown",
   "metadata": {},
   "source": [
    "## Build a Spiral Bubble Plot\n",
    "The concept for this chart is borrowed from http://thestartrekproject.net/files/Star_Trek/ch4/miscellanea-chapter-mockup%2012.pdf"
   ]
  },
  {
   "cell_type": "code",
   "execution_count": null,
   "metadata": {
    "collapsed": false
   },
   "outputs": [],
   "source": [
    "from bokeh.plotting import figure, output_notebook, show, ColumnDataSource\n",
    "from bokeh.models import HoverTool\n",
    "\n",
    "output_notebook()\n",
    "\n",
    "# spiral parameters\n",
    "a = 0.45\n",
    "b = 0.15\n",
    "\n",
    "# bubble size and spacing\n",
    "spacing = 0.01\n",
    "size=np.log10(1.0+totalDeaths['TotalBodyCount'])\n",
    "\n",
    "# convert bubble size and spacing to arclengths\n",
    "arclength = np.cumsum(2*size+spacing)\n",
    "\n",
    "# solve for polar angle using spiral arclength equation\n",
    "theta = np.log(b*arclength/(a*np.sqrt(1+np.power(b,2))))/b\n",
    "\n",
    "# solve for polar radius using logrithmic spiral equation\n",
    "r = a*np.exp(b*theta)\n",
    "\n",
    "# cartesian\n",
    "x=r * np.cos(theta)\n",
    "y=r * np.sin(theta)\n",
    "\n",
    "# build column data source for bokeh\n",
    "source = ColumnDataSource(\n",
    "        data=dict(\n",
    "            x=x,\n",
    "            y=y,\n",
    "            bodyCount=totalDeaths['TotalBodyCount'],\n",
    "            size=size,\n",
    "            color=[\"#%02x%02x%02x\" % (int(red), int(green), 150) for red, green in zip(np.floor(100+2*x), np.floor(30+2*y))],\n",
    "            desc=totalDeaths['DeathBy'].tolist(),\n",
    "        )\n",
    "    )\n",
    "\n",
    "# setup hover tool for contextual labels\n",
    "hover = HoverTool(\n",
    "        tooltips=[\n",
    "            (\"Body Count\", \"@bodyCount\"),\n",
    "            (\"Desc\", \"@desc\"),\n",
    "        ]\n",
    "    )\n",
    "\n",
    "# create the figure\n",
    "p = figure(plot_width=800, plot_height=800, tools=[hover],\n",
    "           title=\"Death By\")\n",
    "\n",
    "# create the bubble scatter plot\n",
    "p.scatter('x', 'y', radius='size', fill_color='color',\n",
    "          source=source, fill_alpha=0.8, line_color=None)\n",
    "\n",
    "# display the figure\n",
    "show(p)"
   ]
  },
  {
   "cell_type": "code",
   "execution_count": null,
   "metadata": {
    "collapsed": true
   },
   "outputs": [],
   "source": []
  }
 ],
 "metadata": {
  "anaconda-cloud": {},
  "kernelspec": {
   "display_name": "Python [default]",
   "language": "python",
   "name": "python3"
  },
  "language_info": {
   "codemirror_mode": {
    "name": "ipython",
    "version": 3
   },
   "file_extension": ".py",
   "mimetype": "text/x-python",
   "name": "python",
   "nbconvert_exporter": "python",
   "pygments_lexer": "ipython3",
   "version": "3.5.2"
  }
 },
 "nbformat": 4,
 "nbformat_minor": 0
}
